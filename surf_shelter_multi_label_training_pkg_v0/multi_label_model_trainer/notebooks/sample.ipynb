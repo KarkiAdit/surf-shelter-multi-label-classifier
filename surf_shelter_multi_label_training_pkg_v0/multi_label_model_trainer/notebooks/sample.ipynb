{
  "nbformat": 4,
  "nbformat_minor": 0,
  "metadata": {
    "colab": {
      "provenance": []
    },
    "kernelspec": {
      "name": "python3",
      "display_name": "Python 3"
    },
    "language_info": {
      "name": "python"
    }
  },
  "cells": [
    {
      "cell_type": "code",
      "execution_count": null,
      "metadata": {
        "id": "pDSWp663WyQ8"
      },
      "outputs": [],
      "source": [
        "# This can be used as a sample notebook for analyis of Common Crawl data"
      ]
    }
  ]
}